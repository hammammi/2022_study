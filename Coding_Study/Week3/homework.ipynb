{
 "cells": [
  {
   "cell_type": "markdown",
   "id": "d698b086",
   "metadata": {},
   "source": [
    "1강 : 이미 작성되어 있었음\n"
   ]
  },
  {
   "cell_type": "code",
   "execution_count": null,
   "id": "442d42ab",
   "metadata": {},
   "outputs": [],
   "source": [
    "def solution(x):\n",
    "    answer = x[0] + x[-1]\n",
    "    return answer"
   ]
  },
  {
   "cell_type": "markdown",
   "id": "36279bde",
   "metadata": {},
   "source": [
    "2강 01"
   ]
  },
  {
   "cell_type": "code",
   "execution_count": null,
   "id": "290a9b18",
   "metadata": {},
   "outputs": [],
   "source": [
    "def solution(L, x):\n",
    "    temp = 0\n",
    "    for i,j in enumerate(L):\n",
    "        if x > j:\n",
    "            temp = i+1\n",
    "    L.insert(temp,x)\n",
    "    answer = L\n",
    "    return answer"
   ]
  },
  {
   "cell_type": "markdown",
   "id": "94fa815d",
   "metadata": {},
   "source": [
    "2강 02"
   ]
  },
  {
   "cell_type": "code",
   "execution_count": null,
   "id": "77074048",
   "metadata": {},
   "outputs": [],
   "source": [
    "def solution(L, x):\n",
    "    try:\n",
    "        a = L.index(x)\n",
    "        answer = [a]\n",
    "        \n",
    "        while (L[a+1:].count(x)):\n",
    "            a = a+1+L[a+1:].index(x)\n",
    "            answer.append(a)\n",
    "            \n",
    "    except:\n",
    "        answer = [-1]\n",
    "    return answer"
   ]
  },
  {
   "cell_type": "markdown",
   "id": "ea65a1dc",
   "metadata": {},
   "source": [
    "3강"
   ]
  },
  {
   "cell_type": "code",
   "execution_count": null,
   "id": "51be9b6a",
   "metadata": {},
   "outputs": [],
   "source": [
    "def solution(L, x):\n",
    "    try:\n",
    "        L.index(x)\n",
    "        lower = 0\n",
    "        upper = len(L)-1\n",
    "        while lower<upper:\n",
    "            middle = round((lower+upper)/2)\n",
    "            if L[middle] == x:\n",
    "                answer = middle\n",
    "                break\n",
    "            elif L[middle] < x:\n",
    "                lower = middle\n",
    "            else:\n",
    "                upper = middle\n",
    "    except:\n",
    "        answer = -1\n",
    "    return answer"
   ]
  },
  {
   "cell_type": "markdown",
   "id": "9c0c873b",
   "metadata": {},
   "source": [
    "4강"
   ]
  },
  {
   "cell_type": "code",
   "execution_count": null,
   "id": "b1c682fb",
   "metadata": {},
   "outputs": [],
   "source": [
    "## reculsive\n",
    "def solution(x):\n",
    "    if x>=2:\n",
    "        return solution(x-2)+solution(x-1)\n",
    "    elif x==1:\n",
    "        return 1+solution(x-1)\n",
    "    elif x==0:\n",
    "        return 0\n",
    "\n",
    "## iterative\n",
    "def solution(x):\n",
    "    answer = 0\n",
    "    F = [0,1]\n",
    "    if x > 1:\n",
    "        while x-1:\n",
    "            F.append(F[-2]+F[-1])\n",
    "            x = x-1\n",
    "        answer = F[-1]\n",
    "    else:\n",
    "        while x:\n",
    "            answer = F[-1]\n",
    "            x = x-1\n",
    "    return answer"
   ]
  },
  {
   "cell_type": "markdown",
   "id": "4c574f81",
   "metadata": {},
   "source": [
    "5강"
   ]
  },
  {
   "cell_type": "code",
   "execution_count": null,
   "id": "4e2d55dd",
   "metadata": {},
   "outputs": [],
   "source": [
    "def solution(L, x, l, u):\n",
    "    if \n",
    "L[l:u].count(x)==0 :\n",
    "        return -1\n",
    "    mid = (l + u) // 2\n",
    "    if x == L[mid]:\n",
    "        return mid\n",
    "    elif x < L[mid]:\n",
    "        return solution(L,x,l,mid)\n",
    "\n",
    "    else:\n",
    "        return solution(L,x,mid,u)\n"
   ]
  },
  {
   "cell_type": "markdown",
   "id": "68887d0e",
   "metadata": {},
   "source": [
    "6강 - 객관식문제"
   ]
  },
  {
   "cell_type": "markdown",
   "id": "e92a977a",
   "metadata": {},
   "source": [
    "7강"
   ]
  },
  {
   "cell_type": "code",
   "execution_count": null,
   "id": "04266194",
   "metadata": {},
   "outputs": [],
   "source": [
    "\n",
    "    def traverse(self):\n",
    "        if self.nodeCount > 0 :\n",
    "            curr = self.head\n",
    "            answer = [curr.data]\n",
    "            while curr.next != None :\n",
    "                curr = curr.next\n",
    "                answer.append(curr.data)\n",
    "            return answer\n",
    "        else :\n",
    "            return []\n",
    "\n"
   ]
  },
  {
   "cell_type": "markdown",
   "id": "8349ce27",
   "metadata": {},
   "source": [
    "8강"
   ]
  },
  {
   "cell_type": "code",
   "execution_count": null,
   "id": "83e8d8c7",
   "metadata": {},
   "outputs": [],
   "source": [
    "\n",
    "    def popAt(self, pos):\n",
    "        if pos < 1 or pos > self.nodeCount :\n",
    "            raise IndexError\n",
    "    \n",
    "        curr = self.getAt(pos)\n",
    "        if pos == 1 :\n",
    "            if self.nodeCount == 1 :\n",
    "                self.head = None\n",
    "                self.tail = None\n",
    "            else :\n",
    "                self.head = curr.next\n",
    "    \n",
    "        elif pos == self.nodeCount :\n",
    "            prev = self.getAt(pos-1)\n",
    "            prev.next = None\n",
    "            self.tail = prev\n",
    "        else :\n",
    "            prev = self.getAt(pos-1)\n",
    "            prev.next = curr.next\n",
    "            \n",
    "        self.nodeCount -= 1    \n",
    "        return curr.data\n"
   ]
  },
  {
   "cell_type": "markdown",
   "id": "dffcfe7c",
   "metadata": {},
   "source": [
    "9강"
   ]
  },
  {
   "cell_type": "code",
   "execution_count": null,
   "id": "c6859eff",
   "metadata": {},
   "outputs": [],
   "source": [
    "\n",
    "    def popAfter(self, prev):\n",
    "        curr = prev.next\n",
    "        if prev.data is None :\n",
    "            if self.nodeCount == 1 :\n",
    "                prev.next = None\n",
    "                self.tail = None\n",
    "            else :\n",
    "                prev.next = curr.next\n",
    "        elif curr.next is None :\n",
    "            prev.next = None\n",
    "            self.tail = prev\n",
    "        else :\n",
    "            prev.next = curr.next\n",
    "        self.nodeCount -= 1\n",
    "        return curr.data\n",
    "    \n",
    "    def popAt(self, pos):\n",
    "        if pos < 1 or pos > self.nodeCount :\n",
    "            raise IndexError\n",
    "        prev = self.getAt(pos-1)\n",
    "        \n",
    "        return self.popAfter(prev)\n",
    "\n"
   ]
  },
  {
   "cell_type": "markdown",
   "id": "7ec60602",
   "metadata": {},
   "source": [
    "10강 01"
   ]
  },
  {
   "cell_type": "code",
   "execution_count": null,
   "id": "c85ab352",
   "metadata": {},
   "outputs": [],
   "source": [
    "    def reverse(self):\n",
    "        if self.nodeCount == 0 :\n",
    "            return []\n",
    "        else :\n",
    "            curr = self.tail.prev\n",
    "            answer = [curr.data]\n",
    "            while curr.prev.prev :\n",
    "                curr = curr.prev\n",
    "                answer.append(curr.data)\n",
    "            return answer\n"
   ]
  },
  {
   "cell_type": "markdown",
   "id": "5635ec7f",
   "metadata": {},
   "source": [
    "10강 02"
   ]
  },
  {
   "cell_type": "code",
   "execution_count": null,
   "id": "2a74842f",
   "metadata": {},
   "outputs": [],
   "source": [
    "    def insertBefore(self, next, newNode):\n",
    "        prev = next.prev\n",
    "        newNode.prev = prev\n",
    "        newNode.next = next\n",
    "        prev.next = newNode\n",
    "        next.prev = newNode\n",
    "        \n",
    "        self.nodeCount += 1\n",
    "        return True"
   ]
  },
  {
   "cell_type": "markdown",
   "id": "d5b4dc68",
   "metadata": {},
   "source": [
    "10강 03"
   ]
  },
  {
   "cell_type": "code",
   "execution_count": null,
   "id": "fc5bf49e",
   "metadata": {},
   "outputs": [],
   "source": [
    "\n",
    "    def popAfter(self, prev):\n",
    "        curr = prev.next\n",
    "        next = curr.next\n",
    "        prev.next = next\n",
    "        next.prev = prev\n",
    "        self.nodeCount -= 1\n",
    "        return curr.data\n",
    "        \n",
    "\n",
    "    def popBefore(self, next):\n",
    "        curr = next.prev\n",
    "        prev = curr.prev\n",
    "        prev.next = next\n",
    "        next.prev = prev\n",
    "        self.nodeCount -= 1\n",
    "        return curr.data\n",
    "\n",
    "    def popAt(self, pos):\n",
    "        if pos < 1 or pos > self.nodeCount :\n",
    "            raise IndexError\n",
    "        prev = self.getAt(pos-1)\n",
    "        return self.popAfter(prev)\n"
   ]
  },
  {
   "cell_type": "markdown",
   "id": "b88499bb",
   "metadata": {},
   "source": [
    "10강 04"
   ]
  },
  {
   "cell_type": "code",
   "execution_count": null,
   "id": "fd2f189e",
   "metadata": {},
   "outputs": [],
   "source": [
    "    def concat(self, L):\n",
    "        curr = self.tail.prev\n",
    "        curr.next = L.head.next\n",
    "        L.head.next.prev = curr\n",
    "        self.tail = L.tail\n",
    "        self.nodeCount += L.nodeCount\n",
    "        return True"
   ]
  },
  {
   "cell_type": "markdown",
   "id": "9e176e91",
   "metadata": {},
   "source": [
    "11강"
   ]
  },
  {
   "cell_type": "code",
   "execution_count": null,
   "id": "a8567dac",
   "metadata": {},
   "outputs": [],
   "source": [
    "def solution(expr):\n",
    "    match = {\n",
    "        ')': '(',\n",
    "        '}': '{',\n",
    "        ']': '['\n",
    "    }\n",
    "    S = ArrayStack()\n",
    "    for c in expr:\n",
    "        if c in '({[':\n",
    "            S.push(c)\n",
    "\n",
    "        elif c in match:\n",
    "            if S.isEmpty() :\n",
    "                return False\n",
    "            else :     \n",
    "                t = S.pop()\n",
    "                if t != match[c] :\n",
    "                    return False\n",
    "    return S.isEmpty()\n"
   ]
  },
  {
   "cell_type": "markdown",
   "id": "b920d870",
   "metadata": {},
   "source": [
    "12강"
   ]
  },
  {
   "cell_type": "code",
   "execution_count": null,
   "id": "4e00f540",
   "metadata": {},
   "outputs": [],
   "source": [
    "def solution(S):\n",
    "    opStack = ArrayStack()\n",
    "    answer = ''\n",
    "    for c in S: \n",
    "        if c in prec.keys():\n",
    "            if c =='(' :\n",
    "                opStack.push(c)\n",
    "            else :\n",
    "                if opStack.isEmpty() :\n",
    "                    pass\n",
    "                else :\n",
    "                    while opStack.isEmpty()==0 and prec[opStack.peek()] >= prec[c] :\n",
    "                        answer += opStack.pop()\n",
    "                opStack.push(c)\n",
    "        elif c == ')' :\n",
    "            while not opStack.peek() == '(' :\n",
    "                answer += opStack.pop()\n",
    "            opStack.pop()\n",
    "        else :\n",
    "            answer += c\n",
    "    while not opStack.isEmpty() :\n",
    "        answer += opStack.pop()\n",
    "    return answer"
   ]
  },
  {
   "cell_type": "markdown",
   "id": "a391120c",
   "metadata": {},
   "source": [
    "13강"
   ]
  },
  {
   "cell_type": "code",
   "execution_count": null,
   "id": "088e9d01",
   "metadata": {},
   "outputs": [],
   "source": [
    "def infixToPostfix(tokenList):\n",
    "    prec = {\n",
    "        '*': 3,\n",
    "        '/': 3,\n",
    "        '+': 2,\n",
    "        '-': 2,\n",
    "        '(': 1,\n",
    "    }\n",
    "\n",
    "    opStack = ArrayStack()\n",
    "    postfixList = []\n",
    "    \n",
    "    for c in tokenList :\n",
    "        if type(c) is int :\n",
    "            postfixList.append(c)\n",
    "       \n",
    "        elif c in '*/+-' :\n",
    "            if opStack.isEmpty() :\n",
    "                pass\n",
    "            else :\n",
    "                while opStack.isEmpty() == 0 and prec[opStack.peek()] >= prec[c] :\n",
    "                    postfixList.append(opStack.pop())\n",
    "            opStack.push(c)\n",
    "        elif c == '(' :\n",
    "            opStack.push(c)\n",
    "        else:\n",
    "            while not opStack.peek() == '(' :\n",
    "                postfixList.append(opStack.pop())\n",
    "            opStack.pop()\n",
    "            \n",
    "    while not opStack.isEmpty() :\n",
    "        postfixList.append(opStack.pop())\n",
    "\n",
    "    return postfixList\n",
    "\n",
    "\n",
    "def postfixEval(tokenList):\n",
    "    value = ArrayStack()\n",
    "    for c in tokenList :\n",
    "        if type(c) is int :\n",
    "            value.push(c)\n",
    "        else :\n",
    "            r2 = value.pop()\n",
    "            r1 = value.pop()\n",
    "            if c == '+' :\n",
    "                value.push(r1+r2)\n",
    "            elif c == '*' :\n",
    "                value.push(r1*r2)\n",
    "            elif c == '-' :\n",
    "                value.push(r1-r2)\n",
    "            else :\n",
    "                value.push(r1/r2)\n",
    "    return value.pop()\n"
   ]
  },
  {
   "cell_type": "markdown",
   "id": "8acfdfef",
   "metadata": {},
   "source": [
    "14강"
   ]
  },
  {
   "cell_type": "code",
   "execution_count": null,
   "id": "3de3416b",
   "metadata": {},
   "outputs": [],
   "source": [
    "class LinkedListQueue:\n",
    "\n",
    "    def __init__(self):\n",
    "        self.data = DoublyLinkedList()\n",
    "\n",
    "    def size(self):\n",
    "        return self.data.getLength()\n",
    "\n",
    "    def isEmpty(self):\n",
    "        return self.size() == 0\n",
    "\n",
    "    def enqueue(self, item):\n",
    "        node = Node(item)\n",
    "        self.data.insertAt(self.size()+1,node)\n",
    "\n",
    "    def dequeue(self):\n",
    "        return self.data.popAt(1)\n",
    "\n",
    "    def peek(self):\n",
    "        return self.data.getAt(1).data\n"
   ]
  },
  {
   "cell_type": "markdown",
   "id": "81f2aa57",
   "metadata": {},
   "source": [
    "15강"
   ]
  },
  {
   "cell_type": "code",
   "execution_count": null,
   "id": "12b5821b",
   "metadata": {},
   "outputs": [],
   "source": [
    "   def enqueue(self, x):\n",
    "        if self.isFull():\n",
    "            raise IndexError('Queue full')\n",
    "        self.rear = (self.rear + 1) % self.maxCount\n",
    "\n",
    "        self.data[self.rear] = x\n",
    "        self.count += 1\n",
    "\n",
    "    def dequeue(self):\n",
    "        if self.isEmpty():\n",
    "            raise IndexError('Queue empty')\n",
    "        self.front = (self.front + 1) % self.maxCount\n",
    "\n",
    "        x = self.data[self.front]\n",
    "\n",
    "        self.count -= 1\n",
    "        return x\n",
    "\n",
    "    def peek(self):\n",
    "        if self.isEmpty():\n",
    "            raise IndexError('Queue empty')\n",
    "        return self.data[(self.front + 1) % self.maxCount]\n"
   ]
  },
  {
   "cell_type": "markdown",
   "id": "61b1008c",
   "metadata": {},
   "source": [
    "16강"
   ]
  },
  {
   "cell_type": "code",
   "execution_count": null,
   "id": "6c0867fc",
   "metadata": {},
   "outputs": [],
   "source": [
    "    def enqueue(self, x):\n",
    "        newNode = Node(x)\n",
    "        curr = self.queue.head\n",
    "\n",
    "        while curr.next.next and curr.next.data > newNode.data:\n",
    "            curr = curr.next\n",
    "        self.queue.insertAfter(curr, newNode)"
   ]
  },
  {
   "cell_type": "markdown",
   "id": "f9eed4b3",
   "metadata": {},
   "source": [
    "안되던것"
   ]
  },
  {
   "cell_type": "code",
   "execution_count": null,
   "id": "38cdd7fc",
   "metadata": {},
   "outputs": [],
   "source": [
    "        curr = self.queue.head\n",
    "\n",
    "        while curr.next.next and curr.next.data < newNode.data:\n",
    "            curr = curr.next\n",
    "        self.queue.insertBefore(curr, newNode)  ## 초기에 node가 아무것도 없을 경우 때문에 에러가 남"
   ]
  },
  {
   "cell_type": "code",
   "execution_count": null,
   "id": "e59a44f4",
   "metadata": {},
   "outputs": [],
   "source": [
    "        curr = self.queue.head.next\n",
    "\n",
    "        while curr.next and curr.data < newNode.data:\n",
    "            curr = curr.next\n",
    "        self.queue.insertBefore(curr, newNode)  ## 테스트 3건 모두 런타임 에러가 걸리는 이유..?\n",
    "        ## 초기에 node가 아무것도 없을 경우 curr==self.tail 일 것이다. while에서 앞의 조건이 거짓이 되므로 self.tail의 앞에 newNode 위치\n",
    "        ## node가 있을 경우 curr.data는 값을 가질 것이므로 while에서 앞의 조건은 참, 뒤의 조건에서 curr.data와 비교 가능\n",
    "        ## 그대로 node의 앞에 newNode를 넣기 위해서는 curr.data > newNode.data여야 하므로 조건은 반대여야 한다"
   ]
  },
  {
   "cell_type": "markdown",
   "id": "6e325ac7",
   "metadata": {},
   "source": [
    "18강 01"
   ]
  },
  {
   "cell_type": "code",
   "execution_count": null,
   "id": "f4e9ba37",
   "metadata": {},
   "outputs": [],
   "source": [
    "class Node:\n",
    "\n",
    "    def __init__(self, item):\n",
    "        self.data = item\n",
    "        self.left = None\n",
    "        self.right = None\n",
    "\n",
    "\n",
    "    def depth(self):\n",
    "        l = self.left.depth() if self.left else 0\n",
    "        r = self.right.depth() if self.right else 0\n",
    "        return max(l,r)+1\n",
    "        \n",
    "\n",
    "\n",
    "class BinaryTree:\n",
    "\n",
    "    def __init__(self, r):\n",
    "        self.root = r\n",
    "\n",
    "    def depth(self):\n",
    "        if self.root:\n",
    "            return self.root.depth()\n",
    "        else:\n",
    "            return 0"
   ]
  },
  {
   "cell_type": "markdown",
   "id": "673804db",
   "metadata": {},
   "source": [
    "18강 02"
   ]
  },
  {
   "cell_type": "code",
   "execution_count": null,
   "id": "70787258",
   "metadata": {},
   "outputs": [],
   "source": [
    " class Node:\n",
    "\n",
    "    def __init__(self, item):\n",
    "        self.data = item\n",
    "        self.left = None\n",
    "        self.right = None\n",
    "\n",
    "    \n",
    "    def preorder(self):\n",
    "        traversal = [self.data]\n",
    "        if self.left:\n",
    "            traversal += self.left.preorder()\n",
    "        if self.right:\n",
    "            traversal += self.right.preorder()\n",
    "        return traversal\n",
    "\n",
    "\n",
    "class BinaryTree:\n",
    "\n",
    "    def __init__(self, r):\n",
    "        self.root = r\n",
    "\n",
    "    def preorder(self):\n",
    "        if self.root:\n",
    "            return self.root.preorder()\n",
    "        else:\n",
    "            return []"
   ]
  },
  {
   "cell_type": "markdown",
   "id": "fe29a209",
   "metadata": {},
   "source": [
    "18강 03"
   ]
  },
  {
   "cell_type": "code",
   "execution_count": null,
   "id": "bae74fa6",
   "metadata": {},
   "outputs": [],
   "source": [
    "class Node:\n",
    "\n",
    "    def __init__(self, item):\n",
    "        self.data = item\n",
    "        self.left = None\n",
    "        self.right = None\n",
    "\n",
    "    def postorder(self):\n",
    "        traversal = []\n",
    "        if self.left:\n",
    "            traversal += self.left.postorder()\n",
    "        if self.right:\n",
    "            traversal += self.right.postorder()\n",
    "        traversal.append(self.data)\n",
    "        return traversal\n",
    "\n",
    "\n",
    "class BinaryTree:\n",
    "\n",
    "    def __init__(self, r):\n",
    "        self.root = r\n",
    "\n",
    "    def postorder(self):\n",
    "        if self.root:\n",
    "            return self.root.postorder()\n",
    "        else:\n",
    "            return []"
   ]
  },
  {
   "cell_type": "markdown",
   "id": "c7f22958",
   "metadata": {},
   "source": [
    "19강"
   ]
  },
  {
   "cell_type": "code",
   "execution_count": null,
   "id": "a27c75ad",
   "metadata": {},
   "outputs": [],
   "source": [
    "    def bft(self):\n",
    "        traversal = []\n",
    "        if self.root:\n",
    "            q = ArrayQueue()\n",
    "            q.enqueue(self.root)\n",
    "            while not q.isEmpty():\n",
    "                node = q.dequeue()\n",
    "                traversal.append(node.data)\n",
    "                if node.left:\n",
    "                    q.enqueue(node.left)\n",
    "                if node.right:\n",
    "                    q.enqueue(node.right)   \n",
    "                    \n",
    "        return traversal"
   ]
  },
  {
   "cell_type": "markdown",
   "id": "0f0ab1b3",
   "metadata": {},
   "source": [
    "20강"
   ]
  },
  {
   "cell_type": "code",
   "execution_count": null,
   "id": "5b4a0b2d",
   "metadata": {},
   "outputs": [],
   "source": [
    "    def insert(self, key, data):\n",
    "        if key < self.key:\n",
    "            if self.left:\n",
    "                self.left.insert(key,data)\n",
    "            else:\n",
    "                self.left = Node(key,data)\n",
    "        elif key > self.key:\n",
    "            if self.right:\n",
    "                self.right.insert(key,data)\n",
    "            else:\n",
    "                self.right = Node(key,data)\n",
    "        else:\n",
    "            raise KeyError"
   ]
  },
  {
   "cell_type": "markdown",
   "id": "22bb0d2d",
   "metadata": {},
   "source": [
    "21강"
   ]
  },
  {
   "cell_type": "code",
   "execution_count": null,
   "id": "7757e530",
   "metadata": {},
   "outputs": [],
   "source": [
    "    def remove(self, key):\n",
    "        node, parent = self.lookup(key)\n",
    "        if node:\n",
    "            nChildren = node.countChildren()\n",
    "            # The simplest case of no children\n",
    "            if nChildren == 0:\n",
    "                # 만약 parent 가 있으면\n",
    "                # node 가 왼쪽 자식인지 오른쪽 자식인지 판단하여\n",
    "                # parent.left 또는 parent.right 를 None 으로 하여\n",
    "                # leaf node 였던 자식을 트리에서 끊어내어 없앱니다.\n",
    "                if parent:\n",
    "                    if parent.left == node:\n",
    "                        parent.left = None\n",
    "                    else:\n",
    "                        parent.right = None\n",
    "                # 만약 parent 가 없으면 (node 는 root 인 경우)\n",
    "                # self.root 를 None 으로 하여 빈 트리로 만듭니다.\n",
    "                else:\n",
    "                    self.root = None\n",
    "            # When the node has only one child\n",
    "            elif nChildren == 1:\n",
    "                # 하나 있는 자식이 왼쪽인지 오른쪽인지를 판단하여\n",
    "                # 그 자식을 어떤 변수가 가리키도록 합니다.\n",
    "                if node.left:\n",
    "                    nodeCh = node.left\n",
    "                else:\n",
    "                    nodeCh = node.right\n",
    "                # 만약 parent 가 있으면\n",
    "                # node 가 왼쪽 자식인지 오른쪽 자식인지 판단하여\n",
    "                # 위에서 가리킨 자식을 대신 node 의 자리에 넣습니다.\n",
    "                if parent:\n",
    "                    if parent.left == node:\n",
    "                        parent.left = nodeCh\n",
    "                    else:\n",
    "                        parent.right = nodeCh\n",
    "                # 만약 parent 가 없으면 (node 는 root 인 경우)\n",
    "                # self.root 에 위에서 가리킨 자식을 대신 넣습니다.\n",
    "                else:\n",
    "                    self.root = nodeCh\n",
    "            # When the node has both left and right children\n",
    "            else:\n",
    "                parent = node\n",
    "                successor = node.right\n",
    "                # parent 는 node 를 가리키고 있고,\n",
    "                # successor 는 node 의 오른쪽 자식을 가리키고 있으므로\n",
    "                # successor 로부터 왼쪽 자식의 링크를 반복하여 따라감으로써\n",
    "                # 순환문이 종료할 때 successor 는 바로 다음 키를 가진 노드를,\n",
    "                # 그리고 parent 는 그 노드의 부모 노드를 가리키도록 찾아냅니다.\n",
    "                while successor.left:\n",
    "                    parent = successor\n",
    "                    successor = successor.left\n",
    "                # 삭제하려는 노드인 node 에 successor 의 key 와 data 를 대입합니다.\n",
    "                node.key = successor.key\n",
    "                node.data = successor.data\n",
    "                # 이제, successor 가 parent 의 왼쪽 자식인지 오른쪽 자식인지를 판단하여 --> While문이 한번도 돌지 않을 수도 있으므로!!\n",
    "                # 그에 따라 parent.left 또는 parent.right 를\n",
    "                # successor 가 가지고 있던 (없을 수도 있지만) 자식을 가리키도록 합니다.\n",
    "                if successor.right:\n",
    "                    if parent.left == successor:\n",
    "                        parent.left = successor.right\n",
    "                    else:\n",
    "                        parent.right = successor.right\n",
    "                else:\n",
    "                    if parent.left == successor:\n",
    "                        parent.left = None\n",
    "                    else:\n",
    "                        parent.right = None\n",
    "\n",
    "            return True\n",
    "\n",
    "        else:\n",
    "            return False"
   ]
  },
  {
   "cell_type": "markdown",
   "id": "678d83a1",
   "metadata": {},
   "source": [
    "22강"
   ]
  },
  {
   "cell_type": "code",
   "execution_count": null,
   "id": "daf9f2f7",
   "metadata": {},
   "outputs": [],
   "source": [
    "    def insert(self, item):\n",
    "        self.data.append(item)\n",
    "        m = len(self.data)-1\n",
    "        if m > 1:\n",
    "            p = m//2\n",
    "            while p > 0 and self.data[m] > self.data[p]:\n",
    "                self.data[m],self.data[p] = self.data[p],self.data[m]\n",
    "                m = p\n",
    "                p = m//2"
   ]
  },
  {
   "cell_type": "markdown",
   "id": "648b1f59",
   "metadata": {},
   "source": [
    "23강"
   ]
  },
  {
   "cell_type": "code",
   "execution_count": null,
   "id": "9bf68b1b",
   "metadata": {},
   "outputs": [],
   "source": [
    "    def maxHeapify(self, i):\n",
    "        # 왼쪽 자식 (left child) 의 인덱스를 계산합니다.\n",
    "        left = \n",
    "2*i\n",
    "\n",
    "        # 오른쪽 자식 (right child) 의 인덱스를 계산합니다.\n",
    "        right = \n",
    "2*i+1\n",
    "\n",
    "        smallest = i\n",
    "        # 왼쪽 자식이 존재하는지, 그리고 왼쪽 자식의 (키) 값이 (무엇보다?) 더 큰지를 판단합니다.\n",
    "        if \n",
    "len(self.data)>left\n",
    " and \n",
    "self.data[left] > self.data[smallest]\n",
    ":\n",
    "            # 조건이 만족하는 경우, smallest 는 왼쪽 자식의 인덱스를 가집니다.\n",
    "            \n",
    "smallest = left\n",
    "\n",
    "        # 오른쪽 자식이 존재하는지, 그리고 오른쪽 자식의 (키) 값이 (무엇보다?) 더 큰지를 판단합니다.\n",
    "        if \n",
    "len(self.data)>right\n",
    " and \n",
    "self.data[right] > self.data[smallest]\n",
    ":\n",
    "            # 조건이 만족하는 경우, smallest 는 오른쪽 자식의 인덱스를 가집니다.\n",
    "            \n",
    "smallest = right\n",
    "\n",
    "        if smallest != i:\n",
    "            # 현재 노드 (인덱스 i) 와 최댓값 노드 (왼쪽 아니면 오른쪽 자식) 를 교체합니다.\n",
    "            \n",
    "self.data[i],self.data[smallest] = self.data[smallest],self.data[i]\n",
    "\n",
    "            # 재귀적 호출을 이용하여 최대 힙의 성질을 만족할 때까지 트리를 정리합니다.\n",
    "            self.maxHeapify(smallest)"
   ]
  }
 ],
 "metadata": {
  "kernelspec": {
   "display_name": "Python 3 (ipykernel)",
   "language": "python",
   "name": "python3"
  },
  "language_info": {
   "codemirror_mode": {
    "name": "ipython",
    "version": 3
   },
   "file_extension": ".py",
   "mimetype": "text/x-python",
   "name": "python",
   "nbconvert_exporter": "python",
   "pygments_lexer": "ipython3",
   "version": "3.10.2"
  }
 },
 "nbformat": 4,
 "nbformat_minor": 5
}
